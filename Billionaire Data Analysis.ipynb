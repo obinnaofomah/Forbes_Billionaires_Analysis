{
 "cells": [
  {
   "cell_type": "markdown",
   "id": "430de383",
   "metadata": {},
   "source": [
    "# Exploratory Data Analysis on Billionaire Dataset"
   ]
  },
  {
   "cell_type": "markdown",
   "id": "3e05aff1",
   "metadata": {},
   "source": [
    "## Import the necessary python libraries"
   ]
  },
  {
   "cell_type": "code",
   "execution_count": 1,
   "id": "46efb669",
   "metadata": {},
   "outputs": [],
   "source": [
    "import pandas as pd\n",
    "import numpy as no\n",
    "import matplotlib.pyplot as plt\n",
    "import seaborn as sns"
   ]
  },
  {
   "cell_type": "markdown",
   "id": "40c8a7af",
   "metadata": {},
   "source": [
    "## Import the dataset into DataFrame"
   ]
  },
  {
   "cell_type": "code",
   "execution_count": 2,
   "id": "77f39dde",
   "metadata": {},
   "outputs": [],
   "source": [
    "data = pd.read_csv('billionaires.csv')"
   ]
  },
  {
   "cell_type": "markdown",
   "id": "26eb847f",
   "metadata": {},
   "source": [
    "## Explore the structure of the dataset using the shape, info() and head() commands"
   ]
  },
  {
   "cell_type": "code",
   "execution_count": 3,
   "id": "97328f76",
   "metadata": {},
   "outputs": [
    {
     "data": {
      "text/plain": [
       "(2614, 22)"
      ]
     },
     "execution_count": 3,
     "metadata": {},
     "output_type": "execute_result"
    }
   ],
   "source": [
    "data.shape"
   ]
  },
  {
   "cell_type": "markdown",
   "id": "168e7a79",
   "metadata": {},
   "source": [
    "- The billionaire dataset has 2614 rows and 22 columns"
   ]
  },
  {
   "cell_type": "code",
   "execution_count": 4,
   "id": "0e00be43",
   "metadata": {},
   "outputs": [
    {
     "data": {
      "text/html": [
       "<div>\n",
       "<style scoped>\n",
       "    .dataframe tbody tr th:only-of-type {\n",
       "        vertical-align: middle;\n",
       "    }\n",
       "\n",
       "    .dataframe tbody tr th {\n",
       "        vertical-align: top;\n",
       "    }\n",
       "\n",
       "    .dataframe thead th {\n",
       "        text-align: right;\n",
       "    }\n",
       "</style>\n",
       "<table border=\"1\" class=\"dataframe\">\n",
       "  <thead>\n",
       "    <tr style=\"text-align: right;\">\n",
       "      <th></th>\n",
       "      <th>name</th>\n",
       "      <th>rank</th>\n",
       "      <th>year</th>\n",
       "      <th>company.founded</th>\n",
       "      <th>company.name</th>\n",
       "      <th>company.relationship</th>\n",
       "      <th>company.sector</th>\n",
       "      <th>company.type</th>\n",
       "      <th>demographics.age</th>\n",
       "      <th>demographics.gender</th>\n",
       "      <th>...</th>\n",
       "      <th>location.gdp</th>\n",
       "      <th>location.region</th>\n",
       "      <th>wealth.type</th>\n",
       "      <th>wealth.worth in billions</th>\n",
       "      <th>wealth.how.category</th>\n",
       "      <th>wealth.how.from emerging</th>\n",
       "      <th>wealth.how.industry</th>\n",
       "      <th>wealth.how.inherited</th>\n",
       "      <th>wealth.how.was founder</th>\n",
       "      <th>wealth.how.was political</th>\n",
       "    </tr>\n",
       "  </thead>\n",
       "  <tbody>\n",
       "    <tr>\n",
       "      <th>0</th>\n",
       "      <td>Bill Gates</td>\n",
       "      <td>1</td>\n",
       "      <td>1996</td>\n",
       "      <td>1975</td>\n",
       "      <td>Microsoft</td>\n",
       "      <td>founder</td>\n",
       "      <td>Software</td>\n",
       "      <td>new</td>\n",
       "      <td>40</td>\n",
       "      <td>male</td>\n",
       "      <td>...</td>\n",
       "      <td>8.100000e+12</td>\n",
       "      <td>North America</td>\n",
       "      <td>founder non-finance</td>\n",
       "      <td>18.5</td>\n",
       "      <td>New Sectors</td>\n",
       "      <td>True</td>\n",
       "      <td>Technology-Computer</td>\n",
       "      <td>not inherited</td>\n",
       "      <td>True</td>\n",
       "      <td>True</td>\n",
       "    </tr>\n",
       "    <tr>\n",
       "      <th>1</th>\n",
       "      <td>Bill Gates</td>\n",
       "      <td>1</td>\n",
       "      <td>2001</td>\n",
       "      <td>1975</td>\n",
       "      <td>Microsoft</td>\n",
       "      <td>founder</td>\n",
       "      <td>Software</td>\n",
       "      <td>new</td>\n",
       "      <td>45</td>\n",
       "      <td>male</td>\n",
       "      <td>...</td>\n",
       "      <td>1.060000e+13</td>\n",
       "      <td>North America</td>\n",
       "      <td>founder non-finance</td>\n",
       "      <td>58.7</td>\n",
       "      <td>New Sectors</td>\n",
       "      <td>True</td>\n",
       "      <td>Technology-Computer</td>\n",
       "      <td>not inherited</td>\n",
       "      <td>True</td>\n",
       "      <td>True</td>\n",
       "    </tr>\n",
       "    <tr>\n",
       "      <th>2</th>\n",
       "      <td>Bill Gates</td>\n",
       "      <td>1</td>\n",
       "      <td>2014</td>\n",
       "      <td>1975</td>\n",
       "      <td>Microsoft</td>\n",
       "      <td>founder</td>\n",
       "      <td>Software</td>\n",
       "      <td>new</td>\n",
       "      <td>58</td>\n",
       "      <td>male</td>\n",
       "      <td>...</td>\n",
       "      <td>0.000000e+00</td>\n",
       "      <td>North America</td>\n",
       "      <td>founder non-finance</td>\n",
       "      <td>76.0</td>\n",
       "      <td>New Sectors</td>\n",
       "      <td>True</td>\n",
       "      <td>Technology-Computer</td>\n",
       "      <td>not inherited</td>\n",
       "      <td>True</td>\n",
       "      <td>True</td>\n",
       "    </tr>\n",
       "    <tr>\n",
       "      <th>3</th>\n",
       "      <td>Warren Buffett</td>\n",
       "      <td>2</td>\n",
       "      <td>1996</td>\n",
       "      <td>1962</td>\n",
       "      <td>Berkshire Hathaway</td>\n",
       "      <td>founder</td>\n",
       "      <td>Finance</td>\n",
       "      <td>new</td>\n",
       "      <td>65</td>\n",
       "      <td>male</td>\n",
       "      <td>...</td>\n",
       "      <td>8.100000e+12</td>\n",
       "      <td>North America</td>\n",
       "      <td>founder non-finance</td>\n",
       "      <td>15.0</td>\n",
       "      <td>Traded Sectors</td>\n",
       "      <td>True</td>\n",
       "      <td>Consumer</td>\n",
       "      <td>not inherited</td>\n",
       "      <td>True</td>\n",
       "      <td>True</td>\n",
       "    </tr>\n",
       "    <tr>\n",
       "      <th>4</th>\n",
       "      <td>Warren Buffett</td>\n",
       "      <td>2</td>\n",
       "      <td>2001</td>\n",
       "      <td>1962</td>\n",
       "      <td>Berkshire Hathaway</td>\n",
       "      <td>founder</td>\n",
       "      <td>Finance</td>\n",
       "      <td>new</td>\n",
       "      <td>70</td>\n",
       "      <td>male</td>\n",
       "      <td>...</td>\n",
       "      <td>1.060000e+13</td>\n",
       "      <td>North America</td>\n",
       "      <td>founder non-finance</td>\n",
       "      <td>32.3</td>\n",
       "      <td>Traded Sectors</td>\n",
       "      <td>True</td>\n",
       "      <td>Consumer</td>\n",
       "      <td>not inherited</td>\n",
       "      <td>True</td>\n",
       "      <td>True</td>\n",
       "    </tr>\n",
       "  </tbody>\n",
       "</table>\n",
       "<p>5 rows × 22 columns</p>\n",
       "</div>"
      ],
      "text/plain": [
       "             name  rank  year  company.founded        company.name  \\\n",
       "0      Bill Gates     1  1996             1975           Microsoft   \n",
       "1      Bill Gates     1  2001             1975           Microsoft   \n",
       "2      Bill Gates     1  2014             1975           Microsoft   \n",
       "3  Warren Buffett     2  1996             1962  Berkshire Hathaway   \n",
       "4  Warren Buffett     2  2001             1962  Berkshire Hathaway   \n",
       "\n",
       "  company.relationship company.sector company.type  demographics.age  \\\n",
       "0              founder       Software          new                40   \n",
       "1              founder       Software          new                45   \n",
       "2              founder       Software          new                58   \n",
       "3              founder        Finance          new                65   \n",
       "4              founder        Finance          new                70   \n",
       "\n",
       "  demographics.gender  ...  location.gdp location.region          wealth.type  \\\n",
       "0                male  ...  8.100000e+12   North America  founder non-finance   \n",
       "1                male  ...  1.060000e+13   North America  founder non-finance   \n",
       "2                male  ...  0.000000e+00   North America  founder non-finance   \n",
       "3                male  ...  8.100000e+12   North America  founder non-finance   \n",
       "4                male  ...  1.060000e+13   North America  founder non-finance   \n",
       "\n",
       "  wealth.worth in billions wealth.how.category  wealth.how.from emerging  \\\n",
       "0                     18.5         New Sectors                      True   \n",
       "1                     58.7         New Sectors                      True   \n",
       "2                     76.0         New Sectors                      True   \n",
       "3                     15.0      Traded Sectors                      True   \n",
       "4                     32.3      Traded Sectors                      True   \n",
       "\n",
       "   wealth.how.industry  wealth.how.inherited wealth.how.was founder  \\\n",
       "0  Technology-Computer         not inherited                   True   \n",
       "1  Technology-Computer         not inherited                   True   \n",
       "2  Technology-Computer         not inherited                   True   \n",
       "3             Consumer         not inherited                   True   \n",
       "4             Consumer         not inherited                   True   \n",
       "\n",
       "  wealth.how.was political  \n",
       "0                     True  \n",
       "1                     True  \n",
       "2                     True  \n",
       "3                     True  \n",
       "4                     True  \n",
       "\n",
       "[5 rows x 22 columns]"
      ]
     },
     "execution_count": 4,
     "metadata": {},
     "output_type": "execute_result"
    }
   ],
   "source": [
    "data.head(5)"
   ]
  },
  {
   "cell_type": "markdown",
   "id": "ab2d7366",
   "metadata": {},
   "source": [
    "- **name**:     Name of the Billionaire                    \n",
    "- **rank**:     Rank in a particular year                       \n",
    "- **year**:     The year ranking was done                       \n",
    "- **company.founded**:     Year the billionaire's company was found           \n",
    "- **company.name**:        Name of billionaire's associated company           \n",
    "- **company.relationship**:     The relationship of the billionaire with associated company       \n",
    "- **company.sector**:     The sector of the company associated with the billionaire            \n",
    "- **company.type** :     The company type associated with the company         \n",
    "- **demographics.age**:     The billionaire's age at the year of ranking         \n",
    "- **demographics.gender** :     The Gender of the billionaire      \n",
    "- **location.citizenship**:     Billionaire's country of nationality      \n",
    "- **location.country code**:     Country code   \n",
    "- **location.gdp** :      Location GDP of the company associated with the billionaire             \n",
    "- **location.region** :     Region where the billionaire's associated company is situated.          \n",
    "- **wealth.type**  :     Whether the billionaire founded the business or not             \n",
    "- **wealth.worth in billions**:     The billionaire network is billion dollars \n",
    "- **wealth.how.category** :     The category of the company associated with the billionaire       \n",
    "- **wealth.how.from emerging** :     Is the company from an emerging sector or not \n",
    "- **wealth.how.industry** :     The industry the billionaire's company belongs to      \n",
    "- **wealth.how.inherited**:     Whether the billionaire inherited the company or not       \n",
    "- **wealth.how.was founder** :    Whether the billionaire found the comppany or not  \n",
    "- **wealth.how.was political** :     Whether the billionaire is associated with Politics \n"
   ]
  },
  {
   "cell_type": "code",
   "execution_count": 5,
   "id": "a1e78919",
   "metadata": {},
   "outputs": [
    {
     "name": "stdout",
     "output_type": "stream",
     "text": [
      "<class 'pandas.core.frame.DataFrame'>\n",
      "RangeIndex: 2614 entries, 0 to 2613\n",
      "Data columns (total 22 columns):\n",
      " #   Column                    Non-Null Count  Dtype  \n",
      "---  ------                    --------------  -----  \n",
      " 0   name                      2614 non-null   object \n",
      " 1   rank                      2614 non-null   int64  \n",
      " 2   year                      2614 non-null   int64  \n",
      " 3   company.founded           2614 non-null   int64  \n",
      " 4   company.name              2576 non-null   object \n",
      " 5   company.relationship      2568 non-null   object \n",
      " 6   company.sector            2591 non-null   object \n",
      " 7   company.type              2578 non-null   object \n",
      " 8   demographics.age          2614 non-null   int64  \n",
      " 9   demographics.gender       2580 non-null   object \n",
      " 10  location.citizenship      2614 non-null   object \n",
      " 11  location.country code     2614 non-null   object \n",
      " 12  location.gdp              2614 non-null   float64\n",
      " 13  location.region           2614 non-null   object \n",
      " 14  wealth.type               2592 non-null   object \n",
      " 15  wealth.worth in billions  2614 non-null   float64\n",
      " 16  wealth.how.category       2613 non-null   object \n",
      " 17  wealth.how.from emerging  2614 non-null   bool   \n",
      " 18  wealth.how.industry       2613 non-null   object \n",
      " 19  wealth.how.inherited      2614 non-null   object \n",
      " 20  wealth.how.was founder    2614 non-null   bool   \n",
      " 21  wealth.how.was political  2614 non-null   bool   \n",
      "dtypes: bool(3), float64(2), int64(4), object(13)\n",
      "memory usage: 395.8+ KB\n"
     ]
    }
   ],
   "source": [
    "data.info()"
   ]
  },
  {
   "cell_type": "markdown",
   "id": "0bdcfaf8",
   "metadata": {},
   "source": [
    "### The info() command returned the summary of the dataset with regards to column_name, data_type, and number of non-null values.\n",
    "\n",
    "- Any column with the same non-value as entries does not contain a mssing value\n",
    "\n",
    "- The dataset contains bool(3) dtype columns, float(2) dtype columns, int64(4) dtype columns, and object(13) dtype."
   ]
  },
  {
   "cell_type": "markdown",
   "id": "15cb95eb",
   "metadata": {},
   "source": [
    "# Data Pre-processing"
   ]
  },
  {
   "cell_type": "markdown",
   "id": "00f4f03f",
   "metadata": {},
   "source": [
    "### Data cleaning involves the following procedures and actions;\n",
    "- Missing or Null values identification and imputation\n",
    "- Outliers identifications and removal\n",
    "- Invalid or inconsistent entries\n",
    "- Identification and deletion of duplicate values\n",
    "- Change inconsistent column datatype"
   ]
  },
  {
   "cell_type": "markdown",
   "id": "db39f3c1",
   "metadata": {},
   "source": [
    "# Missing Values Identification"
   ]
  },
  {
   "cell_type": "code",
   "execution_count": 6,
   "id": "9bc293a2",
   "metadata": {},
   "outputs": [
    {
     "data": {
      "text/plain": [
       "name                         0\n",
       "rank                         0\n",
       "year                         0\n",
       "company.founded              0\n",
       "company.name                38\n",
       "company.relationship        46\n",
       "company.sector              23\n",
       "company.type                36\n",
       "demographics.age             0\n",
       "demographics.gender         34\n",
       "location.citizenship         0\n",
       "location.country code        0\n",
       "location.gdp                 0\n",
       "location.region              0\n",
       "wealth.type                 22\n",
       "wealth.worth in billions     0\n",
       "wealth.how.category          1\n",
       "wealth.how.from emerging     0\n",
       "wealth.how.industry          1\n",
       "wealth.how.inherited         0\n",
       "wealth.how.was founder       0\n",
       "wealth.how.was political     0\n",
       "dtype: int64"
      ]
     },
     "execution_count": 6,
     "metadata": {},
     "output_type": "execute_result"
    }
   ],
   "source": [
    "data.isnull().sum()"
   ]
  },
  {
   "cell_type": "markdown",
   "id": "b2fc558c",
   "metadata": {},
   "source": [
    "- "
   ]
  },
  {
   "cell_type": "code",
   "execution_count": 7,
   "id": "4f4cd7c8",
   "metadata": {},
   "outputs": [
    {
     "data": {
      "text/html": [
       "<div>\n",
       "<style scoped>\n",
       "    .dataframe tbody tr th:only-of-type {\n",
       "        vertical-align: middle;\n",
       "    }\n",
       "\n",
       "    .dataframe tbody tr th {\n",
       "        vertical-align: top;\n",
       "    }\n",
       "\n",
       "    .dataframe thead th {\n",
       "        text-align: right;\n",
       "    }\n",
       "</style>\n",
       "<table border=\"1\" class=\"dataframe\">\n",
       "  <thead>\n",
       "    <tr style=\"text-align: right;\">\n",
       "      <th></th>\n",
       "      <th>company.founded</th>\n",
       "      <th>company.name</th>\n",
       "      <th>company.relationship</th>\n",
       "      <th>company.sector</th>\n",
       "      <th>company.type</th>\n",
       "      <th>wealth.type</th>\n",
       "    </tr>\n",
       "  </thead>\n",
       "  <tbody>\n",
       "    <tr>\n",
       "      <th>0</th>\n",
       "      <td>True</td>\n",
       "      <td>True</td>\n",
       "      <td>True</td>\n",
       "      <td>True</td>\n",
       "      <td>True</td>\n",
       "      <td>True</td>\n",
       "    </tr>\n",
       "    <tr>\n",
       "      <th>1</th>\n",
       "      <td>True</td>\n",
       "      <td>True</td>\n",
       "      <td>True</td>\n",
       "      <td>True</td>\n",
       "      <td>True</td>\n",
       "      <td>True</td>\n",
       "    </tr>\n",
       "  </tbody>\n",
       "</table>\n",
       "</div>"
      ],
      "text/plain": [
       "   company.founded  company.name  company.relationship  company.sector  \\\n",
       "0             True          True                  True            True   \n",
       "1             True          True                  True            True   \n",
       "\n",
       "   company.type  wealth.type  \n",
       "0          True         True  \n",
       "1          True         True  "
      ]
     },
     "execution_count": 7,
     "metadata": {},
     "output_type": "execute_result"
    }
   ],
   "source": [
    "data[['company.founded','company.name', 'company.relationship', 'company.sector', 'company.type', 'wealth.type']].notnull().head(2)"
   ]
  },
  {
   "cell_type": "markdown",
   "id": "f3f80e7e",
   "metadata": {},
   "source": [
    "## Data Imputation.\n",
    "\n",
    "- On a close inspection of the null values which are categorical variables, one can deduce that majority of the null values emanted from the billionaires without any company associated with them.\n",
    "\n",
    "- Instead of dropping the columns or rows using the `.dropna()` method, the missing data can be filled with 'Not Applicable' using the `.fillna()` method, in order not to lose some important details of the dataset."
   ]
  },
  {
   "cell_type": "code",
   "execution_count": 8,
   "id": "c69806b5",
   "metadata": {},
   "outputs": [],
   "source": [
    "# Fill in the missing values in the 'Company.name' column with 'Not Applicable', using the fillna() command\n",
    "\n",
    "data['company.name'].fillna('Not Applicable', inplace=True)"
   ]
  },
  {
   "cell_type": "code",
   "execution_count": 9,
   "id": "410b6434",
   "metadata": {},
   "outputs": [
    {
     "data": {
      "text/plain": [
       "0"
      ]
     },
     "execution_count": 9,
     "metadata": {},
     "output_type": "execute_result"
    }
   ],
   "source": [
    "# Recheck for missing values\n",
    "\n",
    "data['company.name'].isnull().sum()"
   ]
  },
  {
   "cell_type": "markdown",
   "id": "e49a0c37",
   "metadata": {},
   "source": [
    "### Repeat the process for other columns with missing values"
   ]
  },
  {
   "cell_type": "code",
   "execution_count": 10,
   "id": "261c9129",
   "metadata": {},
   "outputs": [],
   "source": [
    "# Data imputation for the \"company.relationship\" column\n",
    "\n",
    "data['company.relationship'].fillna('Not_Applicable', inplace=True)"
   ]
  },
  {
   "cell_type": "code",
   "execution_count": 11,
   "id": "f766abaf",
   "metadata": {},
   "outputs": [],
   "source": [
    "# Data imputation for the company.sector column\n",
    "\n",
    "data['company.sector'].fillna('Not_Applicable', inplace=True)"
   ]
  },
  {
   "cell_type": "code",
   "execution_count": 12,
   "id": "5fd6e2ff",
   "metadata": {},
   "outputs": [],
   "source": [
    "# Data imputation for the company.type column\n",
    "\n",
    "data['company.type'].fillna('Not_Applicable', inplace=True)"
   ]
  },
  {
   "cell_type": "code",
   "execution_count": 13,
   "id": "7675868e",
   "metadata": {},
   "outputs": [],
   "source": [
    "# Data imputation for the wealth.type column\n",
    "\n",
    "data['wealth.type'].fillna('Not_Applicable', inplace=True)"
   ]
  },
  {
   "cell_type": "code",
   "execution_count": 14,
   "id": "6910723d",
   "metadata": {},
   "outputs": [],
   "source": [
    "# Data imputation for the demographic.gender column\n",
    "\n",
    "data['demographics.gender'].fillna('Not_Given', inplace=True)"
   ]
  },
  {
   "cell_type": "code",
   "execution_count": 15,
   "id": "bdeb44d9",
   "metadata": {},
   "outputs": [
    {
     "data": {
      "text/plain": [
       "0            New Sectors\n",
       "1            New Sectors\n",
       "2            New Sectors\n",
       "3         Traded Sectors\n",
       "4         Traded Sectors\n",
       "              ...       \n",
       "2609      Traded Sectors\n",
       "2610      Traded Sectors\n",
       "2611           Financial\n",
       "2612    Resource Related\n",
       "2613         New Sectors\n",
       "Name: wealth.how.category, Length: 2614, dtype: object"
      ]
     },
     "execution_count": 15,
     "metadata": {},
     "output_type": "execute_result"
    }
   ],
   "source": [
    "data['wealth.how.category'].fillna('Not_Provided')"
   ]
  },
  {
   "cell_type": "code",
   "execution_count": 16,
   "id": "cd8dad1c",
   "metadata": {},
   "outputs": [
    {
     "data": {
      "text/plain": [
       "name                        0\n",
       "rank                        0\n",
       "year                        0\n",
       "company.founded             0\n",
       "company.name                0\n",
       "company.relationship        0\n",
       "company.sector              0\n",
       "company.type                0\n",
       "demographics.age            0\n",
       "demographics.gender         0\n",
       "location.citizenship        0\n",
       "location.country code       0\n",
       "location.gdp                0\n",
       "location.region             0\n",
       "wealth.type                 0\n",
       "wealth.worth in billions    0\n",
       "wealth.how.category         1\n",
       "wealth.how.from emerging    0\n",
       "wealth.how.industry         1\n",
       "wealth.how.inherited        0\n",
       "wealth.how.was founder      0\n",
       "wealth.how.was political    0\n",
       "dtype: int64"
      ]
     },
     "execution_count": 16,
     "metadata": {},
     "output_type": "execute_result"
    }
   ],
   "source": [
    "data.isnull().sum()"
   ]
  },
  {
   "cell_type": "code",
   "execution_count": 17,
   "id": "3ac58d23",
   "metadata": {},
   "outputs": [],
   "source": [
    "data['wealth.how.category'].fillna('Not_Given', inplace=True)"
   ]
  },
  {
   "cell_type": "code",
   "execution_count": 18,
   "id": "2021336e",
   "metadata": {},
   "outputs": [],
   "source": [
    "data['wealth.how.industry'].fillna('Not_Given', inplace=True)"
   ]
  },
  {
   "cell_type": "markdown",
   "id": "584e13b7",
   "metadata": {},
   "source": [
    "#### Missing values imputation complete"
   ]
  },
  {
   "cell_type": "markdown",
   "id": "d1fdd4d4",
   "metadata": {},
   "source": [
    "## Check for Duplicates"
   ]
  },
  {
   "cell_type": "code",
   "execution_count": 19,
   "id": "3eb604a5",
   "metadata": {},
   "outputs": [
    {
     "data": {
      "text/plain": [
       "0"
      ]
     },
     "execution_count": 19,
     "metadata": {},
     "output_type": "execute_result"
    }
   ],
   "source": [
    "data.duplicated().sum()"
   ]
  },
  {
   "cell_type": "markdown",
   "id": "b6951486",
   "metadata": {},
   "source": [
    "- There is no duplicate in the dataset"
   ]
  },
  {
   "cell_type": "markdown",
   "id": "0015a54d",
   "metadata": {},
   "source": [
    "# Analysis"
   ]
  },
  {
   "cell_type": "code",
   "execution_count": 20,
   "id": "8eac5979",
   "metadata": {},
   "outputs": [
    {
     "data": {
      "text/html": [
       "<div>\n",
       "<style scoped>\n",
       "    .dataframe tbody tr th:only-of-type {\n",
       "        vertical-align: middle;\n",
       "    }\n",
       "\n",
       "    .dataframe tbody tr th {\n",
       "        vertical-align: top;\n",
       "    }\n",
       "\n",
       "    .dataframe thead th {\n",
       "        text-align: right;\n",
       "    }\n",
       "</style>\n",
       "<table border=\"1\" class=\"dataframe\">\n",
       "  <thead>\n",
       "    <tr style=\"text-align: right;\">\n",
       "      <th></th>\n",
       "      <th>name</th>\n",
       "      <th>rank</th>\n",
       "      <th>year</th>\n",
       "      <th>company.founded</th>\n",
       "      <th>company.name</th>\n",
       "      <th>company.relationship</th>\n",
       "      <th>company.sector</th>\n",
       "      <th>company.type</th>\n",
       "      <th>demographics.age</th>\n",
       "      <th>demographics.gender</th>\n",
       "      <th>...</th>\n",
       "      <th>location.gdp</th>\n",
       "      <th>location.region</th>\n",
       "      <th>wealth.type</th>\n",
       "      <th>wealth.worth in billions</th>\n",
       "      <th>wealth.how.category</th>\n",
       "      <th>wealth.how.from emerging</th>\n",
       "      <th>wealth.how.industry</th>\n",
       "      <th>wealth.how.inherited</th>\n",
       "      <th>wealth.how.was founder</th>\n",
       "      <th>wealth.how.was political</th>\n",
       "    </tr>\n",
       "  </thead>\n",
       "  <tbody>\n",
       "    <tr>\n",
       "      <th>0</th>\n",
       "      <td>Bill Gates</td>\n",
       "      <td>1</td>\n",
       "      <td>1996</td>\n",
       "      <td>1975</td>\n",
       "      <td>Microsoft</td>\n",
       "      <td>founder</td>\n",
       "      <td>Software</td>\n",
       "      <td>new</td>\n",
       "      <td>40</td>\n",
       "      <td>male</td>\n",
       "      <td>...</td>\n",
       "      <td>8.100000e+12</td>\n",
       "      <td>North America</td>\n",
       "      <td>founder non-finance</td>\n",
       "      <td>18.5</td>\n",
       "      <td>New Sectors</td>\n",
       "      <td>True</td>\n",
       "      <td>Technology-Computer</td>\n",
       "      <td>not inherited</td>\n",
       "      <td>True</td>\n",
       "      <td>True</td>\n",
       "    </tr>\n",
       "  </tbody>\n",
       "</table>\n",
       "<p>1 rows × 22 columns</p>\n",
       "</div>"
      ],
      "text/plain": [
       "         name  rank  year  company.founded company.name company.relationship  \\\n",
       "0  Bill Gates     1  1996             1975    Microsoft              founder   \n",
       "\n",
       "  company.sector company.type  demographics.age demographics.gender  ...  \\\n",
       "0       Software          new                40                male  ...   \n",
       "\n",
       "   location.gdp location.region          wealth.type wealth.worth in billions  \\\n",
       "0  8.100000e+12   North America  founder non-finance                     18.5   \n",
       "\n",
       "  wealth.how.category  wealth.how.from emerging  wealth.how.industry  \\\n",
       "0         New Sectors                      True  Technology-Computer   \n",
       "\n",
       "   wealth.how.inherited wealth.how.was founder wealth.how.was political  \n",
       "0         not inherited                   True                     True  \n",
       "\n",
       "[1 rows x 22 columns]"
      ]
     },
     "execution_count": 20,
     "metadata": {},
     "output_type": "execute_result"
    }
   ],
   "source": [
    "data.head(1)"
   ]
  },
  {
   "cell_type": "markdown",
   "id": "c0d95117",
   "metadata": {},
   "source": [
    "# Task 3\n",
    "- Perform data pre-processing if it is required. \n",
    "- Provide a general analysis of your dataset (descriptive statistics) and answer the research questions. Include graphs and other types of visual representation that give essential information about the data components.\n",
    "- Describe in detail the steps you have taken to reach your solution to the selected problem. Support your analysis with data visualization. Provide screenshots of the codding parts where appropriate.\n",
    "- Present the results clearly and explicitly.\n",
    "- Perform statistical significance testing on your data to accept or reject the NULL hypothesis."
   ]
  },
  {
   "cell_type": "markdown",
   "id": "35390115",
   "metadata": {},
   "source": [
    "## Analysis of the Dataset"
   ]
  },
  {
   "cell_type": "code",
   "execution_count": 21,
   "id": "0d64b6be",
   "metadata": {},
   "outputs": [
    {
     "data": {
      "text/html": [
       "<div>\n",
       "<style scoped>\n",
       "    .dataframe tbody tr th:only-of-type {\n",
       "        vertical-align: middle;\n",
       "    }\n",
       "\n",
       "    .dataframe tbody tr th {\n",
       "        vertical-align: top;\n",
       "    }\n",
       "\n",
       "    .dataframe thead th {\n",
       "        text-align: right;\n",
       "    }\n",
       "</style>\n",
       "<table border=\"1\" class=\"dataframe\">\n",
       "  <thead>\n",
       "    <tr style=\"text-align: right;\">\n",
       "      <th></th>\n",
       "      <th>name</th>\n",
       "      <th>rank</th>\n",
       "      <th>year</th>\n",
       "      <th>company.founded</th>\n",
       "      <th>company.name</th>\n",
       "      <th>company.relationship</th>\n",
       "      <th>company.sector</th>\n",
       "      <th>company.type</th>\n",
       "      <th>demographics.age</th>\n",
       "      <th>demographics.gender</th>\n",
       "      <th>...</th>\n",
       "      <th>location.gdp</th>\n",
       "      <th>location.region</th>\n",
       "      <th>wealth.type</th>\n",
       "      <th>wealth.worth in billions</th>\n",
       "      <th>wealth.how.category</th>\n",
       "      <th>wealth.how.from emerging</th>\n",
       "      <th>wealth.how.industry</th>\n",
       "      <th>wealth.how.inherited</th>\n",
       "      <th>wealth.how.was founder</th>\n",
       "      <th>wealth.how.was political</th>\n",
       "    </tr>\n",
       "  </thead>\n",
       "  <tbody>\n",
       "    <tr>\n",
       "      <th>0</th>\n",
       "      <td>Bill Gates</td>\n",
       "      <td>1</td>\n",
       "      <td>1996</td>\n",
       "      <td>1975</td>\n",
       "      <td>Microsoft</td>\n",
       "      <td>founder</td>\n",
       "      <td>Software</td>\n",
       "      <td>new</td>\n",
       "      <td>40</td>\n",
       "      <td>male</td>\n",
       "      <td>...</td>\n",
       "      <td>8.100000e+12</td>\n",
       "      <td>North America</td>\n",
       "      <td>founder non-finance</td>\n",
       "      <td>18.5</td>\n",
       "      <td>New Sectors</td>\n",
       "      <td>True</td>\n",
       "      <td>Technology-Computer</td>\n",
       "      <td>not inherited</td>\n",
       "      <td>True</td>\n",
       "      <td>True</td>\n",
       "    </tr>\n",
       "    <tr>\n",
       "      <th>1</th>\n",
       "      <td>Bill Gates</td>\n",
       "      <td>1</td>\n",
       "      <td>2001</td>\n",
       "      <td>1975</td>\n",
       "      <td>Microsoft</td>\n",
       "      <td>founder</td>\n",
       "      <td>Software</td>\n",
       "      <td>new</td>\n",
       "      <td>45</td>\n",
       "      <td>male</td>\n",
       "      <td>...</td>\n",
       "      <td>1.060000e+13</td>\n",
       "      <td>North America</td>\n",
       "      <td>founder non-finance</td>\n",
       "      <td>58.7</td>\n",
       "      <td>New Sectors</td>\n",
       "      <td>True</td>\n",
       "      <td>Technology-Computer</td>\n",
       "      <td>not inherited</td>\n",
       "      <td>True</td>\n",
       "      <td>True</td>\n",
       "    </tr>\n",
       "    <tr>\n",
       "      <th>2</th>\n",
       "      <td>Bill Gates</td>\n",
       "      <td>1</td>\n",
       "      <td>2014</td>\n",
       "      <td>1975</td>\n",
       "      <td>Microsoft</td>\n",
       "      <td>founder</td>\n",
       "      <td>Software</td>\n",
       "      <td>new</td>\n",
       "      <td>58</td>\n",
       "      <td>male</td>\n",
       "      <td>...</td>\n",
       "      <td>0.000000e+00</td>\n",
       "      <td>North America</td>\n",
       "      <td>founder non-finance</td>\n",
       "      <td>76.0</td>\n",
       "      <td>New Sectors</td>\n",
       "      <td>True</td>\n",
       "      <td>Technology-Computer</td>\n",
       "      <td>not inherited</td>\n",
       "      <td>True</td>\n",
       "      <td>True</td>\n",
       "    </tr>\n",
       "    <tr>\n",
       "      <th>3</th>\n",
       "      <td>Warren Buffett</td>\n",
       "      <td>2</td>\n",
       "      <td>1996</td>\n",
       "      <td>1962</td>\n",
       "      <td>Berkshire Hathaway</td>\n",
       "      <td>founder</td>\n",
       "      <td>Finance</td>\n",
       "      <td>new</td>\n",
       "      <td>65</td>\n",
       "      <td>male</td>\n",
       "      <td>...</td>\n",
       "      <td>8.100000e+12</td>\n",
       "      <td>North America</td>\n",
       "      <td>founder non-finance</td>\n",
       "      <td>15.0</td>\n",
       "      <td>Traded Sectors</td>\n",
       "      <td>True</td>\n",
       "      <td>Consumer</td>\n",
       "      <td>not inherited</td>\n",
       "      <td>True</td>\n",
       "      <td>True</td>\n",
       "    </tr>\n",
       "    <tr>\n",
       "      <th>4</th>\n",
       "      <td>Warren Buffett</td>\n",
       "      <td>2</td>\n",
       "      <td>2001</td>\n",
       "      <td>1962</td>\n",
       "      <td>Berkshire Hathaway</td>\n",
       "      <td>founder</td>\n",
       "      <td>Finance</td>\n",
       "      <td>new</td>\n",
       "      <td>70</td>\n",
       "      <td>male</td>\n",
       "      <td>...</td>\n",
       "      <td>1.060000e+13</td>\n",
       "      <td>North America</td>\n",
       "      <td>founder non-finance</td>\n",
       "      <td>32.3</td>\n",
       "      <td>Traded Sectors</td>\n",
       "      <td>True</td>\n",
       "      <td>Consumer</td>\n",
       "      <td>not inherited</td>\n",
       "      <td>True</td>\n",
       "      <td>True</td>\n",
       "    </tr>\n",
       "  </tbody>\n",
       "</table>\n",
       "<p>5 rows × 22 columns</p>\n",
       "</div>"
      ],
      "text/plain": [
       "             name  rank  year  company.founded        company.name  \\\n",
       "0      Bill Gates     1  1996             1975           Microsoft   \n",
       "1      Bill Gates     1  2001             1975           Microsoft   \n",
       "2      Bill Gates     1  2014             1975           Microsoft   \n",
       "3  Warren Buffett     2  1996             1962  Berkshire Hathaway   \n",
       "4  Warren Buffett     2  2001             1962  Berkshire Hathaway   \n",
       "\n",
       "  company.relationship company.sector company.type  demographics.age  \\\n",
       "0              founder       Software          new                40   \n",
       "1              founder       Software          new                45   \n",
       "2              founder       Software          new                58   \n",
       "3              founder        Finance          new                65   \n",
       "4              founder        Finance          new                70   \n",
       "\n",
       "  demographics.gender  ...  location.gdp location.region          wealth.type  \\\n",
       "0                male  ...  8.100000e+12   North America  founder non-finance   \n",
       "1                male  ...  1.060000e+13   North America  founder non-finance   \n",
       "2                male  ...  0.000000e+00   North America  founder non-finance   \n",
       "3                male  ...  8.100000e+12   North America  founder non-finance   \n",
       "4                male  ...  1.060000e+13   North America  founder non-finance   \n",
       "\n",
       "  wealth.worth in billions wealth.how.category  wealth.how.from emerging  \\\n",
       "0                     18.5         New Sectors                      True   \n",
       "1                     58.7         New Sectors                      True   \n",
       "2                     76.0         New Sectors                      True   \n",
       "3                     15.0      Traded Sectors                      True   \n",
       "4                     32.3      Traded Sectors                      True   \n",
       "\n",
       "   wealth.how.industry  wealth.how.inherited wealth.how.was founder  \\\n",
       "0  Technology-Computer         not inherited                   True   \n",
       "1  Technology-Computer         not inherited                   True   \n",
       "2  Technology-Computer         not inherited                   True   \n",
       "3             Consumer         not inherited                   True   \n",
       "4             Consumer         not inherited                   True   \n",
       "\n",
       "  wealth.how.was political  \n",
       "0                     True  \n",
       "1                     True  \n",
       "2                     True  \n",
       "3                     True  \n",
       "4                     True  \n",
       "\n",
       "[5 rows x 22 columns]"
      ]
     },
     "execution_count": 21,
     "metadata": {},
     "output_type": "execute_result"
    }
   ],
   "source": [
    "data.head()"
   ]
  },
  {
   "cell_type": "markdown",
   "id": "de1a0199",
   "metadata": {},
   "source": [
    "## Descriptive Statistics of the Numerical Columns"
   ]
  },
  {
   "cell_type": "code",
   "execution_count": 22,
   "id": "2e6ba290",
   "metadata": {},
   "outputs": [
    {
     "data": {
      "text/html": [
       "<div>\n",
       "<style scoped>\n",
       "    .dataframe tbody tr th:only-of-type {\n",
       "        vertical-align: middle;\n",
       "    }\n",
       "\n",
       "    .dataframe tbody tr th {\n",
       "        vertical-align: top;\n",
       "    }\n",
       "\n",
       "    .dataframe thead th {\n",
       "        text-align: right;\n",
       "    }\n",
       "</style>\n",
       "<table border=\"1\" class=\"dataframe\">\n",
       "  <thead>\n",
       "    <tr style=\"text-align: right;\">\n",
       "      <th></th>\n",
       "      <th>rank</th>\n",
       "      <th>year</th>\n",
       "      <th>company.founded</th>\n",
       "      <th>demographics.age</th>\n",
       "      <th>location.gdp</th>\n",
       "      <th>wealth.worth in billions</th>\n",
       "    </tr>\n",
       "  </thead>\n",
       "  <tbody>\n",
       "    <tr>\n",
       "      <th>count</th>\n",
       "      <td>2614.000000</td>\n",
       "      <td>2614.000000</td>\n",
       "      <td>2614.000000</td>\n",
       "      <td>2614.000000</td>\n",
       "      <td>2.614000e+03</td>\n",
       "      <td>2614.000000</td>\n",
       "    </tr>\n",
       "    <tr>\n",
       "      <th>mean</th>\n",
       "      <td>599.672533</td>\n",
       "      <td>2008.411630</td>\n",
       "      <td>1924.711936</td>\n",
       "      <td>53.341239</td>\n",
       "      <td>1.769103e+12</td>\n",
       "      <td>3.531943</td>\n",
       "    </tr>\n",
       "    <tr>\n",
       "      <th>std</th>\n",
       "      <td>467.885695</td>\n",
       "      <td>7.483598</td>\n",
       "      <td>243.776546</td>\n",
       "      <td>25.333320</td>\n",
       "      <td>3.547083e+12</td>\n",
       "      <td>5.088813</td>\n",
       "    </tr>\n",
       "    <tr>\n",
       "      <th>min</th>\n",
       "      <td>1.000000</td>\n",
       "      <td>1996.000000</td>\n",
       "      <td>0.000000</td>\n",
       "      <td>-42.000000</td>\n",
       "      <td>0.000000e+00</td>\n",
       "      <td>1.000000</td>\n",
       "    </tr>\n",
       "    <tr>\n",
       "      <th>25%</th>\n",
       "      <td>215.000000</td>\n",
       "      <td>2001.000000</td>\n",
       "      <td>1936.000000</td>\n",
       "      <td>47.000000</td>\n",
       "      <td>0.000000e+00</td>\n",
       "      <td>1.400000</td>\n",
       "    </tr>\n",
       "    <tr>\n",
       "      <th>50%</th>\n",
       "      <td>430.000000</td>\n",
       "      <td>2014.000000</td>\n",
       "      <td>1963.000000</td>\n",
       "      <td>59.000000</td>\n",
       "      <td>0.000000e+00</td>\n",
       "      <td>2.000000</td>\n",
       "    </tr>\n",
       "    <tr>\n",
       "      <th>75%</th>\n",
       "      <td>988.000000</td>\n",
       "      <td>2014.000000</td>\n",
       "      <td>1985.000000</td>\n",
       "      <td>70.000000</td>\n",
       "      <td>7.250000e+11</td>\n",
       "      <td>3.500000</td>\n",
       "    </tr>\n",
       "    <tr>\n",
       "      <th>max</th>\n",
       "      <td>1565.000000</td>\n",
       "      <td>2014.000000</td>\n",
       "      <td>2012.000000</td>\n",
       "      <td>98.000000</td>\n",
       "      <td>1.060000e+13</td>\n",
       "      <td>76.000000</td>\n",
       "    </tr>\n",
       "  </tbody>\n",
       "</table>\n",
       "</div>"
      ],
      "text/plain": [
       "              rank         year  company.founded  demographics.age  \\\n",
       "count  2614.000000  2614.000000      2614.000000       2614.000000   \n",
       "mean    599.672533  2008.411630      1924.711936         53.341239   \n",
       "std     467.885695     7.483598       243.776546         25.333320   \n",
       "min       1.000000  1996.000000         0.000000        -42.000000   \n",
       "25%     215.000000  2001.000000      1936.000000         47.000000   \n",
       "50%     430.000000  2014.000000      1963.000000         59.000000   \n",
       "75%     988.000000  2014.000000      1985.000000         70.000000   \n",
       "max    1565.000000  2014.000000      2012.000000         98.000000   \n",
       "\n",
       "       location.gdp  wealth.worth in billions  \n",
       "count  2.614000e+03               2614.000000  \n",
       "mean   1.769103e+12                  3.531943  \n",
       "std    3.547083e+12                  5.088813  \n",
       "min    0.000000e+00                  1.000000  \n",
       "25%    0.000000e+00                  1.400000  \n",
       "50%    0.000000e+00                  2.000000  \n",
       "75%    7.250000e+11                  3.500000  \n",
       "max    1.060000e+13                 76.000000  "
      ]
     },
     "execution_count": 22,
     "metadata": {},
     "output_type": "execute_result"
    }
   ],
   "source": [
    "# Get the descriptive statistics of the numerical columns using the `describe()` method\n",
    "\n",
    "data.describe()"
   ]
  },
  {
   "cell_type": "markdown",
   "id": "a91c6756",
   "metadata": {},
   "source": [
    "    ## Statistics Description.\n",
    "    \n",
    "    "
   ]
  },
  {
   "cell_type": "code",
   "execution_count": 23,
   "id": "29ca8adf",
   "metadata": {},
   "outputs": [
    {
     "data": {
      "text/html": [
       "<div>\n",
       "<style scoped>\n",
       "    .dataframe tbody tr th:only-of-type {\n",
       "        vertical-align: middle;\n",
       "    }\n",
       "\n",
       "    .dataframe tbody tr th {\n",
       "        vertical-align: top;\n",
       "    }\n",
       "\n",
       "    .dataframe thead th {\n",
       "        text-align: right;\n",
       "    }\n",
       "</style>\n",
       "<table border=\"1\" class=\"dataframe\">\n",
       "  <thead>\n",
       "    <tr style=\"text-align: right;\">\n",
       "      <th></th>\n",
       "      <th>name</th>\n",
       "      <th>rank</th>\n",
       "      <th>year</th>\n",
       "      <th>company.founded</th>\n",
       "      <th>company.name</th>\n",
       "      <th>company.relationship</th>\n",
       "      <th>company.sector</th>\n",
       "      <th>company.type</th>\n",
       "      <th>demographics.age</th>\n",
       "      <th>demographics.gender</th>\n",
       "      <th>...</th>\n",
       "      <th>location.gdp</th>\n",
       "      <th>location.region</th>\n",
       "      <th>wealth.type</th>\n",
       "      <th>wealth.worth in billions</th>\n",
       "      <th>wealth.how.category</th>\n",
       "      <th>wealth.how.from emerging</th>\n",
       "      <th>wealth.how.industry</th>\n",
       "      <th>wealth.how.inherited</th>\n",
       "      <th>wealth.how.was founder</th>\n",
       "      <th>wealth.how.was political</th>\n",
       "    </tr>\n",
       "  </thead>\n",
       "  <tbody>\n",
       "    <tr>\n",
       "      <th>0</th>\n",
       "      <td>Bill Gates</td>\n",
       "      <td>1</td>\n",
       "      <td>1996</td>\n",
       "      <td>1975</td>\n",
       "      <td>Microsoft</td>\n",
       "      <td>founder</td>\n",
       "      <td>Software</td>\n",
       "      <td>new</td>\n",
       "      <td>40</td>\n",
       "      <td>male</td>\n",
       "      <td>...</td>\n",
       "      <td>8.100000e+12</td>\n",
       "      <td>North America</td>\n",
       "      <td>founder non-finance</td>\n",
       "      <td>18.5</td>\n",
       "      <td>New Sectors</td>\n",
       "      <td>True</td>\n",
       "      <td>Technology-Computer</td>\n",
       "      <td>not inherited</td>\n",
       "      <td>True</td>\n",
       "      <td>True</td>\n",
       "    </tr>\n",
       "    <tr>\n",
       "      <th>1</th>\n",
       "      <td>Bill Gates</td>\n",
       "      <td>1</td>\n",
       "      <td>2001</td>\n",
       "      <td>1975</td>\n",
       "      <td>Microsoft</td>\n",
       "      <td>founder</td>\n",
       "      <td>Software</td>\n",
       "      <td>new</td>\n",
       "      <td>45</td>\n",
       "      <td>male</td>\n",
       "      <td>...</td>\n",
       "      <td>1.060000e+13</td>\n",
       "      <td>North America</td>\n",
       "      <td>founder non-finance</td>\n",
       "      <td>58.7</td>\n",
       "      <td>New Sectors</td>\n",
       "      <td>True</td>\n",
       "      <td>Technology-Computer</td>\n",
       "      <td>not inherited</td>\n",
       "      <td>True</td>\n",
       "      <td>True</td>\n",
       "    </tr>\n",
       "    <tr>\n",
       "      <th>2</th>\n",
       "      <td>Bill Gates</td>\n",
       "      <td>1</td>\n",
       "      <td>2014</td>\n",
       "      <td>1975</td>\n",
       "      <td>Microsoft</td>\n",
       "      <td>founder</td>\n",
       "      <td>Software</td>\n",
       "      <td>new</td>\n",
       "      <td>58</td>\n",
       "      <td>male</td>\n",
       "      <td>...</td>\n",
       "      <td>0.000000e+00</td>\n",
       "      <td>North America</td>\n",
       "      <td>founder non-finance</td>\n",
       "      <td>76.0</td>\n",
       "      <td>New Sectors</td>\n",
       "      <td>True</td>\n",
       "      <td>Technology-Computer</td>\n",
       "      <td>not inherited</td>\n",
       "      <td>True</td>\n",
       "      <td>True</td>\n",
       "    </tr>\n",
       "    <tr>\n",
       "      <th>3</th>\n",
       "      <td>Warren Buffett</td>\n",
       "      <td>2</td>\n",
       "      <td>1996</td>\n",
       "      <td>1962</td>\n",
       "      <td>Berkshire Hathaway</td>\n",
       "      <td>founder</td>\n",
       "      <td>Finance</td>\n",
       "      <td>new</td>\n",
       "      <td>65</td>\n",
       "      <td>male</td>\n",
       "      <td>...</td>\n",
       "      <td>8.100000e+12</td>\n",
       "      <td>North America</td>\n",
       "      <td>founder non-finance</td>\n",
       "      <td>15.0</td>\n",
       "      <td>Traded Sectors</td>\n",
       "      <td>True</td>\n",
       "      <td>Consumer</td>\n",
       "      <td>not inherited</td>\n",
       "      <td>True</td>\n",
       "      <td>True</td>\n",
       "    </tr>\n",
       "    <tr>\n",
       "      <th>4</th>\n",
       "      <td>Warren Buffett</td>\n",
       "      <td>2</td>\n",
       "      <td>2001</td>\n",
       "      <td>1962</td>\n",
       "      <td>Berkshire Hathaway</td>\n",
       "      <td>founder</td>\n",
       "      <td>Finance</td>\n",
       "      <td>new</td>\n",
       "      <td>70</td>\n",
       "      <td>male</td>\n",
       "      <td>...</td>\n",
       "      <td>1.060000e+13</td>\n",
       "      <td>North America</td>\n",
       "      <td>founder non-finance</td>\n",
       "      <td>32.3</td>\n",
       "      <td>Traded Sectors</td>\n",
       "      <td>True</td>\n",
       "      <td>Consumer</td>\n",
       "      <td>not inherited</td>\n",
       "      <td>True</td>\n",
       "      <td>True</td>\n",
       "    </tr>\n",
       "  </tbody>\n",
       "</table>\n",
       "<p>5 rows × 22 columns</p>\n",
       "</div>"
      ],
      "text/plain": [
       "             name  rank  year  company.founded        company.name  \\\n",
       "0      Bill Gates     1  1996             1975           Microsoft   \n",
       "1      Bill Gates     1  2001             1975           Microsoft   \n",
       "2      Bill Gates     1  2014             1975           Microsoft   \n",
       "3  Warren Buffett     2  1996             1962  Berkshire Hathaway   \n",
       "4  Warren Buffett     2  2001             1962  Berkshire Hathaway   \n",
       "\n",
       "  company.relationship company.sector company.type  demographics.age  \\\n",
       "0              founder       Software          new                40   \n",
       "1              founder       Software          new                45   \n",
       "2              founder       Software          new                58   \n",
       "3              founder        Finance          new                65   \n",
       "4              founder        Finance          new                70   \n",
       "\n",
       "  demographics.gender  ...  location.gdp location.region          wealth.type  \\\n",
       "0                male  ...  8.100000e+12   North America  founder non-finance   \n",
       "1                male  ...  1.060000e+13   North America  founder non-finance   \n",
       "2                male  ...  0.000000e+00   North America  founder non-finance   \n",
       "3                male  ...  8.100000e+12   North America  founder non-finance   \n",
       "4                male  ...  1.060000e+13   North America  founder non-finance   \n",
       "\n",
       "  wealth.worth in billions wealth.how.category  wealth.how.from emerging  \\\n",
       "0                     18.5         New Sectors                      True   \n",
       "1                     58.7         New Sectors                      True   \n",
       "2                     76.0         New Sectors                      True   \n",
       "3                     15.0      Traded Sectors                      True   \n",
       "4                     32.3      Traded Sectors                      True   \n",
       "\n",
       "   wealth.how.industry  wealth.how.inherited wealth.how.was founder  \\\n",
       "0  Technology-Computer         not inherited                   True   \n",
       "1  Technology-Computer         not inherited                   True   \n",
       "2  Technology-Computer         not inherited                   True   \n",
       "3             Consumer         not inherited                   True   \n",
       "4             Consumer         not inherited                   True   \n",
       "\n",
       "  wealth.how.was political  \n",
       "0                     True  \n",
       "1                     True  \n",
       "2                     True  \n",
       "3                     True  \n",
       "4                     True  \n",
       "\n",
       "[5 rows x 22 columns]"
      ]
     },
     "execution_count": 23,
     "metadata": {},
     "output_type": "execute_result"
    }
   ],
   "source": [
    "data.head()"
   ]
  },
  {
   "attachments": {},
   "cell_type": "markdown",
   "id": "bd015138",
   "metadata": {},
   "source": [
    "## Research Questions 1.\n",
    "### What are the top 10 countries with the highest number of billionaires"
   ]
  },
  {
   "cell_type": "code",
   "execution_count": 69,
   "id": "80b96e64",
   "metadata": {},
   "outputs": [],
   "source": [
    "# Use the groupby function to group (country,name) and then apply the count method to return the frequency for each country\n",
    "\n",
    "billionaire_count = data.groupby('location.citizenship')['name'].count()\n",
    "\n",
    "\n",
    "# Rename the columns to Countries and Count_of_Billionaires\n",
    "billionaire_count = billionaire_count.rename_axis('Countries').reset_index(name='Count_of_Billionaires')\n",
    "\n",
    "\n",
    "# Sort the values\n",
    "billionaire_count_sorted = billionaire_count.sort_values('Count_of_Billionaires', ascending=False)\n",
    "\n",
    "\n",
    "# Slice out the top billionaire using the tail(10). The tail(10) was used because the data was sorted in ascending order.\n",
    "top_10 = billionaire_count_sorted.head(10)\n",
    "\n",
    "# Plot the distribution\n",
    "\n"
   ]
  },
  {
   "cell_type": "code",
   "execution_count": 25,
   "id": "bf029d5a",
   "metadata": {},
   "outputs": [
    {
     "data": {
      "text/html": [
       "<div>\n",
       "<style scoped>\n",
       "    .dataframe tbody tr th:only-of-type {\n",
       "        vertical-align: middle;\n",
       "    }\n",
       "\n",
       "    .dataframe tbody tr th {\n",
       "        vertical-align: top;\n",
       "    }\n",
       "\n",
       "    .dataframe thead th {\n",
       "        text-align: right;\n",
       "    }\n",
       "</style>\n",
       "<table border=\"1\" class=\"dataframe\">\n",
       "  <thead>\n",
       "    <tr style=\"text-align: right;\">\n",
       "      <th></th>\n",
       "      <th>Countries</th>\n",
       "      <th>Count_of_Billionaires</th>\n",
       "    </tr>\n",
       "  </thead>\n",
       "  <tbody>\n",
       "    <tr>\n",
       "      <th>25</th>\n",
       "      <td>India</td>\n",
       "      <td>63</td>\n",
       "    </tr>\n",
       "    <tr>\n",
       "      <th>69</th>\n",
       "      <td>United Kingdom</td>\n",
       "      <td>65</td>\n",
       "    </tr>\n",
       "    <tr>\n",
       "      <th>19</th>\n",
       "      <td>France</td>\n",
       "      <td>72</td>\n",
       "    </tr>\n",
       "    <tr>\n",
       "      <th>24</th>\n",
       "      <td>Hong Kong</td>\n",
       "      <td>77</td>\n",
       "    </tr>\n",
       "    <tr>\n",
       "      <th>8</th>\n",
       "      <td>Brazil</td>\n",
       "      <td>81</td>\n",
       "    </tr>\n",
       "    <tr>\n",
       "      <th>30</th>\n",
       "      <td>Japan</td>\n",
       "      <td>96</td>\n",
       "    </tr>\n",
       "    <tr>\n",
       "      <th>52</th>\n",
       "      <td>Russia</td>\n",
       "      <td>119</td>\n",
       "    </tr>\n",
       "    <tr>\n",
       "      <th>11</th>\n",
       "      <td>China</td>\n",
       "      <td>153</td>\n",
       "    </tr>\n",
       "    <tr>\n",
       "      <th>21</th>\n",
       "      <td>Germany</td>\n",
       "      <td>160</td>\n",
       "    </tr>\n",
       "    <tr>\n",
       "      <th>70</th>\n",
       "      <td>United States</td>\n",
       "      <td>903</td>\n",
       "    </tr>\n",
       "  </tbody>\n",
       "</table>\n",
       "</div>"
      ],
      "text/plain": [
       "         Countries  Count_of_Billionaires\n",
       "25           India                     63\n",
       "69  United Kingdom                     65\n",
       "19          France                     72\n",
       "24       Hong Kong                     77\n",
       "8           Brazil                     81\n",
       "30           Japan                     96\n",
       "52          Russia                    119\n",
       "11           China                    153\n",
       "21         Germany                    160\n",
       "70   United States                    903"
      ]
     },
     "execution_count": 25,
     "metadata": {},
     "output_type": "execute_result"
    }
   ],
   "source": [
    "# Table of the top 10 countries with the highest number of billionaires in ascending order\n",
    "top_10"
   ]
  },
  {
   "cell_type": "code",
   "execution_count": 82,
   "id": "7987a6aa",
   "metadata": {},
   "outputs": [
    {
     "data": {
      "image/png": "[encoded data removed]",
      "text/plain": [
       "<Figure size 1500x600 with 1 Axes>"
      ]
     },
     "metadata": {},
     "output_type": "display_data"
    }
   ],
   "source": [
    "# Plot the chart\n",
    "fig = plt.figure(figsize=(15, 6))\n",
    "ax = sns.barplot(y=top_10['Countries'], x=top_10['Count_of_Billionaires'])\n",
    "\n",
    "\n",
    "# Inserting data labels or data points into the chart\n",
    "for i, v in enumerate(top_10['Count_of_Billionaires']):\n",
    "    ax.text(v + 0.5, i + 0.1, str(v), color='black', fontsize=10)"
   ]
  },
  {
   "attachments": {},
   "cell_type": "markdown",
   "id": "bcb33791",
   "metadata": {},
   "source": [
    "## Research Question 2. \n",
    "### What industries/sectors are most successful?"
   ]
  },
  {
   "cell_type": "code",
   "execution_count": 29,
   "id": "1fbe4897",
   "metadata": {},
   "outputs": [
    {
     "data": {
      "text/plain": [
       "company.sector\n",
       "  Oil refining      57.8\n",
       " Communications     88.9\n",
       " Finance           112.8\n",
       " Oil refining       45.2\n",
       " Software          153.2\n",
       "Name: wealth.worth in billions, dtype: float64"
      ]
     },
     "execution_count": 29,
     "metadata": {},
     "output_type": "execute_result"
    }
   ],
   "source": [
    "# Group the dataframe by location, and their corresponding 'wealth.worth in billions' columns\n",
    "sectors_df = data.groupby('company.sector')['wealth.worth in billions'].sum()\n",
    "\n",
    "\n",
    "\n",
    "sectors_df.head()"
   ]
  },
  {
   "attachments": {},
   "cell_type": "markdown",
   "id": "d0b0a234",
   "metadata": {},
   "source": [
    "*  An overview on the results returned above indicated that there are inconsistent or inaccurate values, For example ('Oil refining' and '   Oil refining') which are the same word but inconsistent with each other. \n",
    "\n",
    "* This error is as a resulf of an empty space before the actual string value, and can be handled using the function \"lstrip()\" to renove all empty space before the values.\n",
    "\n",
    "* Same cleaning was repeated for all values in the same \"company.sector\" variable using \"for loop\" control flow as shown in the syntax below "
   ]
  },
  {
   "cell_type": "code",
   "execution_count": 30,
   "id": "e737f5fe",
   "metadata": {},
   "outputs": [
    {
     "data": {
      "text/plain": [
       "521"
      ]
     },
     "execution_count": 30,
     "metadata": {},
     "output_type": "execute_result"
    }
   ],
   "source": [
    "# Checking for the number of unique values before the cleaning process.\n",
    "\n",
    "data['company.sector'].nunique()\n"
   ]
  },
  {
   "cell_type": "code",
   "execution_count": 31,
   "id": "10b536da",
   "metadata": {},
   "outputs": [],
   "source": [
    "cleaned_company_sector = []\n",
    "\n",
    "for sector in data['company.sector']:\n",
    "    cleaned_company_sector.append(sector.lstrip())"
   ]
  },
  {
   "cell_type": "code",
   "execution_count": 35,
   "id": "0c724e00",
   "metadata": {},
   "outputs": [
    {
     "data": {
      "text/plain": [
       "514"
      ]
     },
     "execution_count": 35,
     "metadata": {},
     "output_type": "execute_result"
    }
   ],
   "source": [
    "# Reassign the cleaned \"company.sector\" and recheck the number of the unique values in the \"company.sector\" feature after cleaning\n",
    "\n",
    "data['company.sector'] = cleaned_company_sector\n",
    "\n",
    "data['company.sector'].nunique()"
   ]
  },
  {
   "attachments": {},
   "cell_type": "markdown",
   "id": "9e8484a5",
   "metadata": {},
   "source": [
    "The number of unique values has reduced from 521 to 514 which indicated that the inconsistencies have been handled."
   ]
  },
  {
   "cell_type": "code",
   "execution_count": 37,
   "id": "51595551",
   "metadata": {},
   "outputs": [
    {
     "data": {
      "text/plain": [
       "company.sector\n",
       "Banking                 13.3\n",
       "Communications          88.9\n",
       "Fashion                 70.6\n",
       "Finance                112.8\n",
       "GPS technology           4.1\n",
       "                       ...  \n",
       "wireless products        2.7\n",
       "wool                     1.0\n",
       "wrestling promotion      1.2\n",
       "yogurt                   1.4\n",
       "zippers                  3.5\n",
       "Name: wealth.worth in billions, Length: 514, dtype: float64"
      ]
     },
     "execution_count": 37,
     "metadata": {},
     "output_type": "execute_result"
    }
   ],
   "source": [
    "# Group the dataset by 'company.sector' and sum their wealth worth by sector\n",
    "company_group = data.groupby('company.sector')['wealth.worth in billions'].sum()\n",
    "\n",
    "company_group"
   ]
  },
  {
   "cell_type": "code",
   "execution_count": 44,
   "id": "e3a22416",
   "metadata": {},
   "outputs": [
    {
     "data": {
      "text/html": [
       "<div>\n",
       "<style scoped>\n",
       "    .dataframe tbody tr th:only-of-type {\n",
       "        vertical-align: middle;\n",
       "    }\n",
       "\n",
       "    .dataframe tbody tr th {\n",
       "        vertical-align: top;\n",
       "    }\n",
       "\n",
       "    .dataframe thead th {\n",
       "        text-align: right;\n",
       "    }\n",
       "</style>\n",
       "<table border=\"1\" class=\"dataframe\">\n",
       "  <thead>\n",
       "    <tr style=\"text-align: right;\">\n",
       "      <th></th>\n",
       "      <th>Sectors</th>\n",
       "      <th>Net_Worth</th>\n",
       "    </tr>\n",
       "  </thead>\n",
       "  <tbody>\n",
       "    <tr>\n",
       "      <th>0</th>\n",
       "      <td>Banking</td>\n",
       "      <td>13.3</td>\n",
       "    </tr>\n",
       "    <tr>\n",
       "      <th>1</th>\n",
       "      <td>Communications</td>\n",
       "      <td>88.9</td>\n",
       "    </tr>\n",
       "    <tr>\n",
       "      <th>2</th>\n",
       "      <td>Fashion</td>\n",
       "      <td>70.6</td>\n",
       "    </tr>\n",
       "    <tr>\n",
       "      <th>3</th>\n",
       "      <td>Finance</td>\n",
       "      <td>112.8</td>\n",
       "    </tr>\n",
       "    <tr>\n",
       "      <th>4</th>\n",
       "      <td>GPS technology</td>\n",
       "      <td>4.1</td>\n",
       "    </tr>\n",
       "    <tr>\n",
       "      <th>...</th>\n",
       "      <td>...</td>\n",
       "      <td>...</td>\n",
       "    </tr>\n",
       "    <tr>\n",
       "      <th>509</th>\n",
       "      <td>wireless products</td>\n",
       "      <td>2.7</td>\n",
       "    </tr>\n",
       "    <tr>\n",
       "      <th>510</th>\n",
       "      <td>wool</td>\n",
       "      <td>1.0</td>\n",
       "    </tr>\n",
       "    <tr>\n",
       "      <th>511</th>\n",
       "      <td>wrestling promotion</td>\n",
       "      <td>1.2</td>\n",
       "    </tr>\n",
       "    <tr>\n",
       "      <th>512</th>\n",
       "      <td>yogurt</td>\n",
       "      <td>1.4</td>\n",
       "    </tr>\n",
       "    <tr>\n",
       "      <th>513</th>\n",
       "      <td>zippers</td>\n",
       "      <td>3.5</td>\n",
       "    </tr>\n",
       "  </tbody>\n",
       "</table>\n",
       "<p>514 rows × 2 columns</p>\n",
       "</div>"
      ],
      "text/plain": [
       "                 Sectors  Net_Worth\n",
       "0                Banking       13.3\n",
       "1         Communications       88.9\n",
       "2                Fashion       70.6\n",
       "3                Finance      112.8\n",
       "4         GPS technology        4.1\n",
       "..                   ...        ...\n",
       "509    wireless products        2.7\n",
       "510                 wool        1.0\n",
       "511  wrestling promotion        1.2\n",
       "512               yogurt        1.4\n",
       "513              zippers        3.5\n",
       "\n",
       "[514 rows x 2 columns]"
      ]
     },
     "execution_count": 44,
     "metadata": {},
     "output_type": "execute_result"
    }
   ],
   "source": [
    "# Rename the labels of the result returned \n",
    "company_group = company_group.rename_axis('Sectors').reset_index(name='Net_Worth')\n",
    "\n",
    "company_group "
   ]
  },
  {
   "cell_type": "code",
   "execution_count": 61,
   "id": "d1e922c3",
   "metadata": {},
   "outputs": [],
   "source": [
    "# Sort the values by tbe networth and return the top 10 sectors\n",
    "\n",
    "company_sector_sorted = company_group.sort_values('Net_Worth', ascending=False).head(10)\n",
    "\n"
   ]
  },
  {
   "cell_type": "code",
   "execution_count": 83,
   "id": "3fff1c1e",
   "metadata": {},
   "outputs": [
    {
     "data": {
      "image/png": "[encoded data removed]",
      "text/plain": [
       "<Figure size 1500x600 with 1 Axes>"
      ]
     },
     "metadata": {},
     "output_type": "display_data"
    }
   ],
   "source": [
    "# Plot the distribution\n",
    "fig = plt.figure(figsize=(15, 6))\n",
    "\n",
    "bx = sns.barplot(x='Net_Worth', y='Sectors', data=company_sector_sorted)\n",
    "plt.xlabel('Billionaire\\'s sector\\'s networth in $ billions')\n",
    "plt.ylabel(\"Billionaire's business sectors\")\n",
    "\n",
    "for i, v in enumerate(company_sector_sorted['Net_Worth']):\n",
    "    bx.text(v + 0.5, i + 0.1, str(v), color='black', fontsize=10)"
   ]
  },
  {
   "cell_type": "code",
   "execution_count": null,
   "id": "a1a26522",
   "metadata": {},
   "outputs": [],
   "source": []
  }
 ],
 "metadata": {
  "kernelspec": {
   "display_name": "Python 3",
   "language": "python",
   "name": "python3"
  },
  "language_info": {
   "codemirror_mode": {
    "name": "ipython",
    "version": 3
   },
   "file_extension": ".py",
   "mimetype": "text/x-python",
   "name": "python",
   "nbconvert_exporter": "python",
   "pygments_lexer": "ipython3",
   "version": "3.11.0"
  },
  "vscode": {
   "interpreter": {
    "hash": "53b53c30d88cc8187b642e5073c5dea6eceb7c1e6447348f55e293ba3d7a8f14"
   }
  }
 },
 "nbformat": 4,
 "nbformat_minor": 5
}
